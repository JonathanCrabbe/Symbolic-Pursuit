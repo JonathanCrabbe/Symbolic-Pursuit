{
 "cells": [
  {
   "cell_type": "code",
   "execution_count": 1,
   "metadata": {},
   "outputs": [],
   "source": [
    "from symbolic_pursuit.models import SymbolicRegressor  # our symbolic model class\n",
    "from sklearn.metrics import mean_squared_error # we are going to assess the quality of the model based on the generalization MSE\n",
    "from sympy import init_printing # We use sympy to display mathematical expresssions \n",
    "import numpy as np # we use numpy to deal with arrays\n",
    "import lime \n",
    "import lime.lime_tabular\n",
    "init_printing()"
   ]
  },
  {
   "cell_type": "code",
   "execution_count": 2,
   "metadata": {},
   "outputs": [],
   "source": [
    "def f(X):\n",
    "    return X[:, 0]+2*X[:,1]+3*X[:,2]\n",
    "\n",
    "dim_X = 3"
   ]
  },
  {
   "cell_type": "code",
   "execution_count": 3,
   "metadata": {},
   "outputs": [],
   "source": [
    "n_pts = 100\n",
    "X = np.random.uniform(0, 1, (n_pts, dim_X))"
   ]
  },
  {
   "cell_type": "code",
   "execution_count": 4,
   "metadata": {},
   "outputs": [],
   "source": [
    "n_test = 10\n",
    "X_test = np.random.uniform(0, 1, (n_test, dim_X))"
   ]
  },
  {
   "cell_type": "code",
   "execution_count": 5,
   "metadata": {},
   "outputs": [],
   "source": [
    "def order_weights(exp_list):\n",
    "    ordered_weights = [0 for _ in range(dim_X)]\n",
    "    for tup in exp_list:\n",
    "        feature_id = int(tup[0].split('x_')[1][0])\n",
    "        ordered_weights[feature_id-1] = tup[1]    \n",
    "    return ordered_weights    "
   ]
  },
  {
   "cell_type": "code",
   "execution_count": 6,
   "metadata": {},
   "outputs": [
    {
     "name": "stdout",
     "output_type": "stream",
     "text": [
      "Intercept 3.2798211806407935\n",
      "Prediction_local [1.65404743]\n",
      "Right: 1.8251336731013608\n",
      "Intercept 2.614071907176627\n",
      "Prediction_local [3.73197779]\n",
      "Right: 3.915166083674069\n",
      "Intercept 3.531281560606753\n",
      "Prediction_local [0.96230586]\n",
      "Right: 1.0680580888815143\n",
      "Intercept 3.0625264408852044\n",
      "Prediction_local [2.37679817]\n",
      "Right: 2.5153466906319384\n",
      "Intercept 3.2086059357743575\n",
      "Prediction_local [1.84577565]\n",
      "Right: 1.9418805655150169\n",
      "Intercept 2.9638014720699735\n",
      "Prediction_local [2.61361529]\n",
      "Right: 2.345125005682301\n",
      "Intercept 2.4382167227734373\n",
      "Prediction_local [4.3320286]\n",
      "Right: 3.862974480778787\n",
      "Intercept 2.5028096225875585\n",
      "Prediction_local [4.03790463]\n",
      "Right: 4.384884034895277\n",
      "Intercept 2.5931288423211623\n",
      "Prediction_local [3.74344057]\n",
      "Right: 4.008337975873024\n",
      "Intercept 2.6118316446665713\n",
      "Prediction_local [3.71640377]\n",
      "Right: 3.675022879439817\n",
      "[[-0.4649202728998083, 0.3027631241814751, -1.4636166047972394], [-0.4745913065092781, 1.0894478160279923, 0.5030493759701495], [-0.16628404660065857, -0.953405134927338, -1.4492865190263635], [0.503499282588143, 0.2785350317619279, -1.4677625820821], [0.5266835394231795, -0.36733959250741033, -1.5221742295763812], [0.5066622978304057, -0.4173517576808178, -0.43949672630301784], [0.16462262117438875, 0.27888400097830934, 1.4503052569661816], [0.5342461538159987, -0.42955330019926324, 1.4304021501431339], [0.5011594569030072, 1.085844003544909, -0.4366917326526145], [0.49000877372442353, 1.0438272019714074, -0.4292638460940532]]\n"
     ]
    }
   ],
   "source": [
    "lime_weight_list = []\n",
    "explainer = lime.lime_tabular.LimeTabularExplainer(X, \n",
    "                                                   feature_names=[\"x_\"+str(k) for k in range(1,dim_X+1)], \n",
    "                                                   class_names=['f'], \n",
    "                                                   verbose=True,\n",
    "                                                   mode='regression')\n",
    "\n",
    "for i in range(n_test):\n",
    "    exp = explainer.explain_instance(X_test[i], f, num_features=dim_X)\n",
    "    lime_weight_list.append(order_weights(exp.as_list()))  \n",
    "                            \n",
    "print(lime_weight_list)    "
   ]
  },
  {
   "cell_type": "code",
   "execution_count": 7,
   "metadata": {},
   "outputs": [
    {
     "name": "stdout",
     "output_type": "stream",
     "text": [
      "%%%%%%%%%%%%%%%%%%%%%%%%%%%%%%%%%%%%%%%%%%%%%%%%%%%%%%%%%%%%%%%%%%%%%%%%%%%%%%%%%%%%%%%%%%%%%%%%%%%%\n",
      "Now working on term number  1 .\n",
      "====================================================================================================\n",
      "Now working on hyperparameter tree number  1 .\n",
      "Warning: Desired error not necessarily achieved due to precision loss.\n",
      "         Current function value: 1.124145\n",
      "         Iterations: 13\n",
      "         Function evaluations: 1172\n",
      "         Gradient evaluations: 145\n",
      "====================================================================================================\n",
      "Now working on hyperparameter tree number  2 .\n",
      "Optimization terminated successfully.\n",
      "         Current function value: 0.000000\n",
      "         Iterations: 79\n",
      "         Function evaluations: 1800\n",
      "         Gradient evaluations: 180\n",
      "====================================================================================================\n",
      "The algorithm stopped because the desired precision was achieved.\n",
      "====================================================================================================\n",
      "The tree number  2  was selected as the best.\n",
      "====================================================================================================\n",
      "Backfitting complete.\n",
      "====================================================================================================\n",
      "====================================================================================================\n",
      "The current model has the following expression:  6.48080192147146*[ReLU(P1)]**1.00001818129391*hyper((5.22588880302877e-6,), (1.46065927793992, 1.46065927793992), 1.0/[ReLU(P1)])\n",
      "The current value of the loss is:  2.0027648368941944e-10 .\n",
      "----------------------------------------------------------------------------------------------------\n",
      "----------------------------------------------------------------------------------------------------\n",
      "The final model has the following expression:\n",
      "6.48080192147146*[ReLU(P1)]**1.00001818129391*hyper((5.22588880302877e-6,), (1.46065927793992, 1.46065927793992), 1.0/[ReLU(P1)])\n",
      "P1 =  0.354289018576189*X1 + 0.708585815281414*X2 + 1.06289212963136*X3\n",
      "The number of terms inside the expansion is 1 .\n",
      "The current loss is 2.0027648368941944e-10 .\n",
      "----------------------------------------------------------------------------------------------------\n"
     ]
    }
   ],
   "source": [
    "symbolic_model = SymbolicRegressor()\n",
    "symbolic_model.fit(f, X)"
   ]
  },
  {
   "cell_type": "code",
   "execution_count": 8,
   "metadata": {},
   "outputs": [],
   "source": [
    "symbolic_weight_list = [] \n",
    "for k in range(n_test):\n",
    "    symbolic_weight_list.append(symbolic_model.get_feature_importance(X_test[k]))\n",
    "    "
   ]
  },
  {
   "cell_type": "code",
   "execution_count": 9,
   "metadata": {},
   "outputs": [
    {
     "name": "stdout",
     "output_type": "stream",
     "text": [
      "[[0.999982498536494, 1.99998695088047, 3.00001826682352], [0.999999496915246, 2.00002094801116, 3.00006926316279], [0.999961904584880, 1.99994576252512, 2.99995648351119], [0.999990329610961, 2.00000261320133, 3.00004176060114], [0.999984146340451, 1.99999024652456, 3.00002321035201], [0.999988743092238, 1.99999944012905, 3.00003700093270], [0.999999233084327, 2.00002042034353, 3.00006847165136], [1.00000170250490, 2.00002535923889, 3.00007588008785], [0.999999957797835, 2.00002186978646, 3.00007064584318], [0.999998246853151, 2.00001844785953, 3.00006551288804]]\n"
     ]
    }
   ],
   "source": [
    "print(symbolic_weight_list)"
   ]
  }
 ],
 "metadata": {
  "kernelspec": {
   "display_name": "Python 3",
   "language": "python",
   "name": "python3"
  },
  "language_info": {
   "codemirror_mode": {
    "name": "ipython",
    "version": 3
   },
   "file_extension": ".py",
   "mimetype": "text/x-python",
   "name": "python",
   "nbconvert_exporter": "python",
   "pygments_lexer": "ipython3",
   "version": "3.7.7"
  }
 },
 "nbformat": 4,
 "nbformat_minor": 4
}
