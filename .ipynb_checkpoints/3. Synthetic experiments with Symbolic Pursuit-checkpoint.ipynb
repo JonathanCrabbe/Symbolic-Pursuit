{
 "cells": [
  {
   "cell_type": "markdown",
   "metadata": {},
   "source": [
    "# 3. Synthetic experiments with Symbolic Pursuit"
   ]
  },
  {
   "cell_type": "markdown",
   "metadata": {},
   "source": [
    "In this notebook, we shall reproduce one of the experiments from Section 6.1 of the paper.\n",
    "The idea is to start with a linear pseudo black-box for which the importance vector is known unambiguously and see which interpretability methods identifies this vector the most precisely. Let us start by the useful imports.\n"
   ]
  },
  {
   "cell_type": "code",
   "execution_count": 1,
   "metadata": {},
   "outputs": [],
   "source": [
    "from symbolic_pursuit.models import SymbolicRegressor  # our symbolic model class\n",
    "from sklearn.metrics import mean_squared_error # we are going to assess the quality of the model based on the generalization MSE\n",
    "from sympy import init_printing # We use sympy to display mathematical expresssions \n",
    "import numpy as np # we use numpy to deal with arrays\n",
    "import lime \n",
    "import lime.lime_tabular\n",
    "init_printing()"
   ]
  },
  {
   "cell_type": "markdown",
   "metadata": {},
   "source": [
    "We now define a linear pseudo black-box $f$ defined on a 3 dimensional feature space.\n",
    "\n",
    "$$ f(x_1,x_2,x_3)= x_1 + 2 \\cdot x_2 + 3 \\cdot x_3$$ \n",
    "\n",
    "The importance vector associated to this model is trivially given by $\\beta = (1,2,3)$ In this case, we shall keep it unnormalised, unlike in the main paper as we deal with few examples. Let us translate this in Python. "
   ]
  },
  {
   "cell_type": "code",
   "execution_count": 2,
   "metadata": {},
   "outputs": [],
   "source": [
    "def f(X):\n",
    "    return X[:, 0]+2*X[:,1]+3*X[:,2]\n",
    "\n",
    "dim_X = 3"
   ]
  },
  {
   "cell_type": "markdown",
   "metadata": {},
   "source": [
    "Now draw uniformly 100 test points  that we will feed to a *LIME* explainer <cite data-cite=\"2480681/WCEBQ7N9\"></cite> and to train a Symbolic model."
   ]
  },
  {
   "cell_type": "code",
   "execution_count": 3,
   "metadata": {},
   "outputs": [],
   "source": [
    "n_pts = 100\n",
    "X = np.random.uniform(0, 1, (n_pts, dim_X))"
   ]
  },
  {
   "cell_type": "markdown",
   "metadata": {},
   "source": [
    "Now we draw 10 test ponits $x_{test} \\equiv U([0,1]^3)$ that we are going to use in order to evaluate the perfomances of both explainers on unseen data."
   ]
  },
  {
   "cell_type": "code",
   "execution_count": 4,
   "metadata": {},
   "outputs": [],
   "source": [
    "n_test = 10\n",
    "X_test = np.random.uniform(0, 1, (n_test, dim_X))"
   ]
  },
  {
   "cell_type": "markdown",
   "metadata": {},
   "source": [
    "Since LIME produces importance vectors with entries in the form $(feature \\ domain , importance)$ for each feature appearing in decreasing order of importance, we implement a function which identifies the feature from the first entry of the tuple and who sorts the importances in the form $(importance(x_1), importance(x_2), importance(x_3))$."
   ]
  },
  {
   "cell_type": "code",
   "execution_count": 5,
   "metadata": {},
   "outputs": [],
   "source": [
    "def order_weights(exp_list):\n",
    "    ordered_weights = [0 for _ in range(dim_X)]\n",
    "    for tup in exp_list:\n",
    "        feature_id = int(tup[0].split('x_')[1][0])\n",
    "        ordered_weights[feature_id-1] = tup[1]    \n",
    "    return ordered_weights    "
   ]
  },
  {
   "cell_type": "markdown",
   "metadata": {},
   "source": [
    "We are now ready to extract the feature importance for our 10 test points as predicted by the LIME explainer :"
   ]
  },
  {
   "cell_type": "code",
   "execution_count": 6,
   "metadata": {},
   "outputs": [
    {
     "name": "stdout",
     "output_type": "stream",
     "text": [
      "Intercept 3.386273715800808\n",
      "Prediction_local [2.32476258]\n",
      "Right: 2.3711302504096565\n",
      "Intercept 3.818870316655268\n",
      "Prediction_local [1.09391178]\n",
      "Right: 1.3370154443345572\n",
      "Intercept 3.4778543326370928\n",
      "Prediction_local [2.0747781]\n",
      "Right: 1.500451586763697\n",
      "Intercept 3.102545862568385\n",
      "Prediction_local [3.21653876]\n",
      "Right: 3.2635243572291324\n",
      "Intercept 3.096609492223863\n",
      "Prediction_local [3.27596983]\n",
      "Right: 3.1166072960471225\n",
      "Intercept 2.883947537132836\n",
      "Prediction_local [3.9040365]\n",
      "Right: 4.323964016519295\n",
      "Intercept 2.8748723576455206\n",
      "Prediction_local [3.82875395]\n",
      "Right: 3.6301947889118558\n",
      "Intercept 2.7850041334448656\n",
      "Prediction_local [4.15189643]\n",
      "Right: 4.421333902840418\n",
      "Intercept 2.6997517673896967\n",
      "Prediction_local [4.39485284]\n",
      "Right: 4.329928624641883\n",
      "Intercept 3.7323180952250192\n",
      "Prediction_local [1.33898044]\n",
      "Right: 1.3248403686712038\n",
      "[[-0.4972218108046295, 0.9741903931179863, -1.5384797197686464], [-0.19503610213758726, -0.989548961836806, -1.5403734774107953], [-0.14650378788933416, 0.3242034599202348, -1.5807759016655916], [0.21413880685867792, 0.3724705255976709, -0.47261643265384284], [-0.25342256931358503, 0.9418327318940481, -0.5090498244598717], [-0.19171151660845268, -0.32149117122712106, 1.5332916555870229], [-0.5190292159362944, 0.9125714678278996, 0.5603393422380322], [0.4645762304390897, 0.36122419615658835, 0.5410918672573016], [0.1622816657950643, 0.9916945019522062, 0.541124903690111], [0.10927482085848174, -0.9760095778623774, -1.5266029003781203]]\n"
     ]
    }
   ],
   "source": [
    "lime_weight_list = []\n",
    "explainer = lime.lime_tabular.LimeTabularExplainer(X, \n",
    "                                                   feature_names=[\"x_\"+str(k) for k in range(1,dim_X+1)], \n",
    "                                                   class_names=['f'], \n",
    "                                                   verbose=True,\n",
    "                                                   mode='regression')\n",
    "\n",
    "for i in range(n_test):\n",
    "    exp = explainer.explain_instance(X_test[i], f, num_features=dim_X)\n",
    "    lime_weight_list.append(order_weights(exp.as_list()))  \n",
    "                            \n",
    "print(lime_weight_list)    "
   ]
  },
  {
   "cell_type": "markdown",
   "metadata": {},
   "source": [
    "As we can see from the last output, which is the list of predicted importance vectors, LIME seems to produce a big variety of importance vectors. This is suprising for a global linear model. We also note that the relative importance seem inconsistent with the true importance vector $\\beta$ defined above. Let us now train a Symbolic model for $f$ based on our training set."
   ]
  },
  {
   "cell_type": "code",
   "execution_count": 7,
   "metadata": {},
   "outputs": [
    {
     "name": "stdout",
     "output_type": "stream",
     "text": [
      "%%%%%%%%%%%%%%%%%%%%%%%%%%%%%%%%%%%%%%%%%%%%%%%%%%%%%%%%%%%%%%%%%%%%%%%%%%%%%%%%%%%%%%%%%%%%%%%%%%%%\n",
      "Now working on term number  1 .\n",
      "====================================================================================================\n",
      "Now working on hyperparameter tree number  1 .\n",
      "Warning: Desired error not necessarily achieved due to precision loss.\n",
      "         Current function value: 1.181178\n",
      "         Iterations: 29\n",
      "         Function evaluations: 1086\n",
      "         Gradient evaluations: 154\n",
      "====================================================================================================\n",
      "Now working on hyperparameter tree number  2 .\n",
      "Optimization terminated successfully.\n",
      "         Current function value: 0.000000\n",
      "         Iterations: 82\n",
      "         Function evaluations: 1701\n",
      "         Gradient evaluations: 189\n",
      "====================================================================================================\n",
      "The algorithm stopped because the desired precision was achieved.\n",
      "====================================================================================================\n",
      "The tree number  2  was selected as the best.\n",
      "====================================================================================================\n",
      "Backfitting complete.\n",
      "====================================================================================================\n",
      "====================================================================================================\n",
      "The current model has the following expression:  6.48072783395268*[ReLU(P1)]**1.0000840052335*hyper((5.04766488358399e-5,), (1.46967073623424, 1.46967073623424), 1.0/[ReLU(P1)])\n",
      "The current value of the loss is:  9.804671340834355e-10 .\n",
      "----------------------------------------------------------------------------------------------------\n",
      "----------------------------------------------------------------------------------------------------\n",
      "The final model has the following expression:\n",
      "6.48072783395268*[ReLU(P1)]**1.0000840052335*hyper((5.04766488358399e-5,), (1.46967073623424, 1.46967073623424), 1.0/[ReLU(P1)])\n",
      "P1 =  0.612162502667668*X1 + 1.22434271531971*X2 + 1.83652095462896*X3\n",
      "The number of terms inside the expansion is 1 .\n",
      "The current loss is 9.804671340834355e-10 .\n",
      "----------------------------------------------------------------------------------------------------\n"
     ]
    }
   ],
   "source": [
    "symbolic_model = SymbolicRegressor()\n",
    "symbolic_model.fit(f, X)"
   ]
  },
  {
   "cell_type": "markdown",
   "metadata": {},
   "source": [
    "We now ask our symbolic model to predict the importance vectors for each test point."
   ]
  },
  {
   "cell_type": "code",
   "execution_count": 8,
   "metadata": {},
   "outputs": [],
   "source": [
    "symbolic_weight_list = [] \n",
    "for k in range(n_test):\n",
    "    symbolic_weight_list.append(symbolic_model.get_feature_importance(X_test[k]))\n",
    "    "
   ]
  },
  {
   "cell_type": "code",
   "execution_count": 9,
   "metadata": {},
   "outputs": [
    {
     "name": "stdout",
     "output_type": "stream",
     "text": [
      "[[0.999972339093126, 1.99996360729793, 2.99995165206373], [0.999866544038656, 1.99975201412831, 2.99963426112001], [0.999895578667953, 1.99981008422689, 2.99972136659427], [1.00000913478169, 2.00003719973957, 3.00006204113983], [1.00000424913202, 2.00002742829888, 3.00004738392387], [1.00003710448909, 2.00009313996353, 3.00014595179020], [1.00002005292583, 2.00005903634370, 3.00009479616877], [1.00003921407823, 2.00009735920285, 3.00015228067289], [1.00003723531082, 2.00009340161078, 3.00014634426255], [0.999863963806811, 1.99974685358998, 2.99962652028350]]\n"
     ]
    }
   ],
   "source": [
    "print(symbolic_weight_list)"
   ]
  },
  {
   "cell_type": "markdown",
   "metadata": {},
   "source": [
    "As we can see, our results appear to be always consistent and very close to the true importance vector $\\beta$."
   ]
  },
  {
   "cell_type": "markdown",
   "metadata": {},
   "source": [
    "## References<div class=\"cite2c-biblio\"></div>"
   ]
  },
  {
   "cell_type": "markdown",
   "metadata": {},
   "source": [
    "<div class=\"cite2c-biblio\"></div>"
   ]
  }
 ],
 "metadata": {
  "cite2c": {
   "citations": {
    "2480681/WCEBQ7N9": {
     "URL": "http://arxiv.org/abs/1602.04938",
     "abstract": "Despite widespread adoption, machine learning models remain mostly black boxes. Understanding the reasons behind predictions is, however, quite important in assessing trust, which is fundamental if one plans to take action based on a prediction, or when choosing whether to deploy a new model. Such understanding also provides insights into the model, which can be used to transform an untrustworthy model or prediction into a trustworthy one. In this work, we propose LIME, a novel explanation technique that explains the predictions of any classifier in an interpretable and faithful manner, by learning an interpretable model locally around the prediction. We also propose a method to explain models by presenting representative individual predictions and their explanations in a non-redundant way, framing the task as a submodular optimization problem. We demonstrate the flexibility of these methods by explaining different models for text (e.g. random forests) and image classification (e.g. neural networks). We show the utility of explanations via novel experiments, both simulated and with human subjects, on various scenarios that require trust: deciding if one should trust a prediction, choosing between models, improving an untrustworthy classifier, and identifying why a classifier should not be trusted.",
     "accessed": {
      "day": 29,
      "month": 4,
      "year": 2020
     },
     "author": [
      {
       "family": "Ribeiro",
       "given": "Marco Tulio"
      },
      {
       "family": "Singh",
       "given": "Sameer"
      },
      {
       "family": "Guestrin",
       "given": "Carlos"
      }
     ],
     "container-title": "arXiv:1602.04938 [cs, stat]",
     "id": "2480681/WCEBQ7N9",
     "issued": {
      "day": 9,
      "month": 8,
      "year": 2016
     },
     "note": "arXiv: 1602.04938",
     "shortTitle": "\"Why Should I Trust You?",
     "title": "\"Why Should I Trust You?\": Explaining the Predictions of Any Classifier",
     "title-short": "\"Why Should I Trust You?",
     "type": "article-journal"
    }
   }
  },
  "kernelspec": {
   "display_name": "Python 3",
   "language": "python",
   "name": "python3"
  },
  "language_info": {
   "codemirror_mode": {
    "name": "ipython",
    "version": 3
   },
   "file_extension": ".py",
   "mimetype": "text/x-python",
   "name": "python",
   "nbconvert_exporter": "python",
   "pygments_lexer": "ipython3",
   "version": "3.7.9"
  }
 },
 "nbformat": 4,
 "nbformat_minor": 4
}
